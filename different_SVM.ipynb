{
  "nbformat": 4,
  "nbformat_minor": 0,
  "metadata": {
    "colab": {
      "provenance": [],
      "collapsed_sections": []
    },
    "kernelspec": {
      "name": "python3",
      "display_name": "Python 3"
    },
    "language_info": {
      "name": "python"
    }
  },
  "cells": [
    {
      "cell_type": "code",
      "source": [
        "!pip install -U liblinear-official"
      ],
      "metadata": {
        "colab": {
          "base_uri": "https://localhost:8080/"
        },
        "id": "ztd6n0rzjnbE",
        "outputId": "eead27a6-8008-440e-f04f-555758b67e8c"
      },
      "execution_count": 1,
      "outputs": [
        {
          "output_type": "stream",
          "name": "stdout",
          "text": [
            "Looking in indexes: https://pypi.org/simple, https://us-python.pkg.dev/colab-wheels/public/simple/\n",
            "Collecting liblinear-official\n",
            "  Downloading liblinear-official-2.45.0.tar.gz (45 kB)\n",
            "\u001b[K     |████████████████████████████████| 45 kB 1.8 MB/s \n",
            "\u001b[?25hRequirement already satisfied: scipy in /usr/local/lib/python3.7/dist-packages (from liblinear-official) (1.7.3)\n",
            "Requirement already satisfied: numpy<1.23.0,>=1.16.5 in /usr/local/lib/python3.7/dist-packages (from scipy->liblinear-official) (1.21.6)\n",
            "Building wheels for collected packages: liblinear-official\n",
            "  Building wheel for liblinear-official (setup.py) ... \u001b[?25l\u001b[?25hdone\n",
            "  Created wheel for liblinear-official: filename=liblinear_official-2.45.0-cp37-cp37m-linux_x86_64.whl size=124360 sha256=7be1b77424925e0803b0626c61b616e6925bb937f5dd10f59a99d37e33eecf43\n",
            "  Stored in directory: /root/.cache/pip/wheels/31/3d/a6/b08f7b173446e099f6c5ab24662604b8c463bc3a1f72464c80\n",
            "Successfully built liblinear-official\n",
            "Installing collected packages: liblinear-official\n",
            "Successfully installed liblinear-official-2.45.0\n"
          ]
        }
      ]
    },
    {
      "cell_type": "code",
      "source": [
        "pip install -U libsvm-official"
      ],
      "metadata": {
        "colab": {
          "base_uri": "https://localhost:8080/"
        },
        "id": "SK2o_6XFFiL1",
        "outputId": "d319d312-ee2f-4e1c-a3cd-4fb3b9e19aee"
      },
      "execution_count": 2,
      "outputs": [
        {
          "output_type": "stream",
          "name": "stdout",
          "text": [
            "Looking in indexes: https://pypi.org/simple, https://us-python.pkg.dev/colab-wheels/public/simple/\n",
            "Collecting libsvm-official\n",
            "  Downloading libsvm-official-3.30.0.tar.gz (38 kB)\n",
            "Requirement already satisfied: scipy in /usr/local/lib/python3.7/dist-packages (from libsvm-official) (1.7.3)\n",
            "Requirement already satisfied: numpy<1.23.0,>=1.16.5 in /usr/local/lib/python3.7/dist-packages (from scipy->libsvm-official) (1.21.6)\n",
            "Building wheels for collected packages: libsvm-official\n",
            "  Building wheel for libsvm-official (setup.py) ... \u001b[?25l\u001b[?25hdone\n",
            "  Created wheel for libsvm-official: filename=libsvm_official-3.30.0-cp37-cp37m-linux_x86_64.whl size=101397 sha256=ad5378007082b0a86b5fa9000ad3cb4d29738e68bd73a3c941f0c6948dbfead5\n",
            "  Stored in directory: /root/.cache/pip/wheels/7a/bc/ea/af1d905b704a64fb88c9be94e00fc3d777243734e1f181ef1d\n",
            "Successfully built libsvm-official\n",
            "Installing collected packages: libsvm-official\n",
            "Successfully installed libsvm-official-3.30.0\n"
          ]
        }
      ]
    },
    {
      "cell_type": "code",
      "source": [
        "from liblinear.liblinearutil import *\n",
        "from libsvm.svmutil import *"
      ],
      "metadata": {
        "id": "WpREs_FwjrIT"
      },
      "execution_count": 1,
      "outputs": []
    },
    {
      "cell_type": "code",
      "source": [
        "# load the data and label\n",
        "y,x = svm_read_problem('covtype.libsvm.binary',return_scipy = True)"
      ],
      "metadata": {
        "id": "HVHtQ2GajupL"
      },
      "execution_count": 2,
      "outputs": []
    },
    {
      "cell_type": "code",
      "source": [
        "# Pre-proprocess the data by subtracting mean and scale them in [-1,1].\n",
        "scale_param = csr_find_scale_param(x,lower = -1,upper = 1)\n",
        "x = csr_scale(x, scale_param)"
      ],
      "metadata": {
        "colab": {
          "base_uri": "https://localhost:8080/"
        },
        "id": "TruRCDJ05ggQ",
        "outputId": "6c420d7d-33bc-4571-e433-b263f0a451b0"
      },
      "execution_count": 3,
      "outputs": [
        {
          "output_type": "stream",
          "name": "stderr",
          "text": [
            "WARNING: The #nonzeros of the scaled data is at least 2 times larger than the original one.\n",
            "If feature values are non-negative and sparse, set lower=0 rather than the default lower=-1.\n",
            "WARNING: original #nonzeros 6901775\n",
            "       > new      #nonzeros 31363368\n",
            "If feature values are non-negative and sparse, get scale_param by setting lower=0 rather than the default lower=-1.\n"
          ]
        }
      ]
    },
    {
      "cell_type": "code",
      "source": [
        "import datetime"
      ],
      "metadata": {
        "id": "tV2teq-_8zI5"
      },
      "execution_count": 4,
      "outputs": []
    },
    {
      "cell_type": "code",
      "source": [
        "# Apply SVM(dual)\n",
        "# L2-regularized L2-loss support vector classification (dual)\n",
        "# adjust the parameters\n",
        "\n",
        "starttime = datetime.datetime.now() # record start time now\n",
        "\n",
        "prob = problem(y[:100000],x[:100000])\n",
        "param = parameter('-s 1 -c 5 -q')\n",
        "m = train(prob, param)\n",
        "p_labels,p_acc,p_vals = predict(y[-10000:],x[-10000:],m)\n",
        "\n",
        "endtime = datetime.datetime.now() # record end time here\n",
        "print (endtime - starttime)"
      ],
      "metadata": {
        "colab": {
          "base_uri": "https://localhost:8080/"
        },
        "id": "oCEc9clj63Fs",
        "outputId": "ab2f8602-3003-4225-a8ed-10605d10f800"
      },
      "execution_count": 18,
      "outputs": [
        {
          "output_type": "stream",
          "name": "stdout",
          "text": [
            "Accuracy = 84.18% (8418/10000) (classification)\n",
            "0:00:21.900524\n"
          ]
        }
      ]
    },
    {
      "cell_type": "code",
      "source": [
        "# Apply SVM(primal)\n",
        "# L2-regularized L2-loss support vector classification (primal)\n",
        "# adjust the parameters\n",
        "\n",
        "starttime2 = datetime.datetime.now() \n",
        "\n",
        "prob2 = problem(y[:-100000],x[:-100000]) # make the trainset\n",
        "param2 = parameter('-s 2 -c 5 -q')\n",
        "m2 = train(prob2, param2)\n",
        "p_labels,p_acc,p_vals = predict(y[-10000:],x[-10000:],m2) # predict the testset\n",
        "\n",
        "endtime2 = datetime.datetime.now()\n",
        "print (endtime2 - starttime2)"
      ],
      "metadata": {
        "colab": {
          "base_uri": "https://localhost:8080/"
        },
        "id": "K4wbuXR-72x_",
        "outputId": "717c42b2-6a87-4819-d68e-c4a031900f2b"
      },
      "execution_count": 5,
      "outputs": [
        {
          "output_type": "stream",
          "name": "stdout",
          "text": [
            "Accuracy = 45.42% (4542/10000) (classification)\n",
            "0:00:10.435059\n"
          ]
        }
      ]
    },
    {
      "cell_type": "code",
      "source": [
        "# Use Libsvm, apply kernel methods\n",
        "from libsvm.svmutil import *\n",
        "m = svm_train(y[:10000], x[:10000])\n",
        "p_label,p_acc,p_val=svm_predict(y[-1000:],x[-1000:],m) "
      ],
      "metadata": {
        "id": "na5cJVvQ8f-r"
      },
      "execution_count": null,
      "outputs": []
    },
    {
      "cell_type": "code",
      "source": [
        "# reduce the dimensionality by using PCA\n",
        "from sklearn.preprocessing import StandardScaler \n",
        "from sklearn.decomposition import PCA \n",
        "import numpy as np\n",
        "\n",
        "X_std = StandardScaler().fit_transform(x[:100].toarray()) # sample 100 points\n",
        "X_pca = PCA(n_components=2).fit_transform(X_std) # decompose it into 2 dimensionality\n",
        "\n",
        "#predict_std = StandardScaler().fit_transform(p_val[:100])\n"
      ],
      "metadata": {
        "id": "pZWPzhzpExNr"
      },
      "execution_count": 5,
      "outputs": []
    },
    {
      "cell_type": "code",
      "source": [
        "# this block is for plotting\n",
        "# contains points with different label in different list\n",
        "x_pos = []\n",
        "y_pos = []\n",
        "\n",
        "x_pos2 = []\n",
        "y_pos2 = []\n",
        "\n",
        "for i in range(100):\n",
        "  if y[i] == 1:\n",
        "    x_pos.append(X_pca[i][0])\n",
        "    y_pos.append(X_pca[i][1])\n",
        "  else:\n",
        "    x_pos2.append(X_pca[i][0])\n",
        "    y_pos2.append(X_pca[i][1])"
      ],
      "metadata": {
        "id": "aJpyZawKMPsv"
      },
      "execution_count": null,
      "outputs": []
    },
    {
      "cell_type": "code",
      "source": [
        "# w = model.SVs' * model.sv_coef;\n",
        "# b = -model.rho;\n",
        "# get from libsvm FAQ: https://www.csie.ntu.edu.tw/~cjlin/libsvm/faq.html#f804\n",
        "\n",
        "w = 0.0 # initialize the w\n",
        "m_SV = PCA(n_components=1).fit_transform(X_std) # get one D of SV\n",
        "\n",
        "for i in range(len(m_SV)):\n",
        "  w += m_SV[i] * m.get_sv_coef()[i] # mutiply SV with its sv_coef\n",
        "\n",
        "b = m.rho[0] # get the intercept here"
      ],
      "metadata": {
        "id": "6cP3wgDCXcng"
      },
      "execution_count": null,
      "outputs": []
    },
    {
      "cell_type": "code",
      "source": [
        "import matplotlib.pyplot as plt\n",
        "plt.scatter(x_pos, y_pos,c=\"orange\")\n",
        "plt.scatter(x_pos2, y_pos2,c=\"blue\")\n",
        "\n",
        "arr = np.array(x_pos)\n",
        "support_vector = w * arr + b # support vector 1\n",
        "b = -b\n",
        "arr2 = np.array(x_pos2)\n",
        "support_vector2 = w* arr2 + b # second support vector\n",
        "\n",
        "plt.plot(arr, support_vector, c='red')\n",
        "plt.plot(arr2, support_vector2, c='red')\n",
        "plt.show()"
      ],
      "metadata": {
        "colab": {
          "base_uri": "https://localhost:8080/",
          "height": 265
        },
        "id": "vCpr96oYL9aY",
        "outputId": "05f850b2-8d4d-4215-d59a-4af623cba54b"
      },
      "execution_count": null,
      "outputs": [
        {
          "output_type": "display_data",
          "data": {
            "text/plain": [
              "<Figure size 432x288 with 1 Axes>"
            ],
            "image/png": "[encoded data removed]"
          },
          "metadata": {
            "needs_background": "light"
          }
        }
      ]
    },
    {
      "cell_type": "code",
      "source": [
        "# Apply SVM(dual)\n",
        "# L2-regularized L2-loss support vector classification (dual)\n",
        "# adjust the parameters\n",
        "\n",
        "X_std = StandardScaler().fit_transform(x.toarray()) \n",
        "X_pca = PCA(n_components=2).fit_transform(X_std) # decompose it into 2 dimensionality\n",
        "\n",
        "prob = problem(y[:-100000],X_std[:-100000])\n",
        "param = parameter('-s 1 -c 5 -q')\n",
        "m = train(prob2, param)\n",
        "p_labels,p_acc,p_vals = predict(y[-10000:],X_std[-10000:],m)"
      ],
      "metadata": {
        "colab": {
          "base_uri": "https://localhost:8080/"
        },
        "id": "C-Ri7HvbZCfN",
        "outputId": "785c7bba-3034-463b-b467-86eee9c1a595"
      },
      "execution_count": 8,
      "outputs": [
        {
          "output_type": "stream",
          "name": "stdout",
          "text": [
            "Accuracy = 46.92% (4692/10000) (classification)\n"
          ]
        }
      ]
    },
    {
      "cell_type": "code",
      "source": [
        "# Apply SVM(primal)\n",
        "# L2-regularized L2-loss support vector classification (primal)\n",
        "# adjust the parameters\n",
        "\n",
        "\n",
        "\n",
        "prob2 = problem(y[:-100000],X_std[:-100000]) # make the trainset\n",
        "param2 = parameter('-s 2 -c 5 -q')\n",
        "m2 = train(prob2, param2)\n",
        "p_labels,p_acc,p_vals = predict(y[-10000:],X_std[-10000:],m2) # predict the testset\n",
        "\n"
      ],
      "metadata": {
        "colab": {
          "base_uri": "https://localhost:8080/"
        },
        "id": "1KtJPgGxLSEo",
        "outputId": "24019b65-ae3b-4a16-ab3b-f8201701e71a"
      },
      "execution_count": 7,
      "outputs": [
        {
          "output_type": "stream",
          "name": "stdout",
          "text": [
            "Accuracy = 46.9% (4690/10000) (classification)\n"
          ]
        }
      ]
    }
  ]
}